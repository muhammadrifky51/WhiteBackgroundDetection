{
 "cells": [
  {
   "cell_type": "code",
   "execution_count": 1,
   "metadata": {},
   "outputs": [],
   "source": [
    "import urllib.request\n",
    "from bs4 import BeautifulSoup"
   ]
  },
  {
   "cell_type": "code",
   "execution_count": 2,
   "metadata": {},
   "outputs": [],
   "source": [
    "urls = ['https://shopee.co.id/product/8114349/607642570/',\n",
    "        'https://shopee.co.id/product/8690455/1632591920/',\n",
    "        'https://shopee.co.id/product/13062645/1569229324/',\n",
    "        'https://shopee.co.id/product/32610410/453152604/',\n",
    "        'https://shopee.co.id/product/32610410/453112137/'\n",
    "]"
   ]
  },
  {
   "cell_type": "code",
   "execution_count": 3,
   "metadata": {},
   "outputs": [
    {
     "name": "stdout",
     "output_type": "stream",
     "text": [
      "https://shopee.co.id/product/8114349/607642570/\n",
      "https://shopee.co.id/product/8690455/1632591920/\n",
      "https://shopee.co.id/product/13062645/1569229324/\n",
      "https://shopee.co.id/product/32610410/453152604/\n",
      "https://shopee.co.id/product/32610410/453112137/\n"
     ]
    }
   ],
   "source": [
    "i = 0\n",
    "for product in urls:\n",
    "    print(product)\n",
    "    with urllib.request.urlopen(product) as response:\n",
    "        html = response.read()\n",
    "    soup = BeautifulSoup(html, 'html.parser')\n",
    "    link = str(soup.find(property=\"twitter:image\"))\n",
    "    url = link[15:-28]\n",
    "    urllib.request.urlretrieve(url, \"local-filename\"+str(i)+\".jpg\")\n",
    "    i+=1"
   ]
  },
  {
   "cell_type": "code",
   "execution_count": null,
   "metadata": {},
   "outputs": [],
   "source": []
  }
 ],
 "metadata": {
  "kernelspec": {
   "display_name": "Python 3",
   "language": "python",
   "name": "python3"
  },
  "language_info": {
   "codemirror_mode": {
    "name": "ipython",
    "version": 3
   },
   "file_extension": ".py",
   "mimetype": "text/x-python",
   "name": "python",
   "nbconvert_exporter": "python",
   "pygments_lexer": "ipython3",
   "version": "3.6.7"
  }
 },
 "nbformat": 4,
 "nbformat_minor": 2
}
