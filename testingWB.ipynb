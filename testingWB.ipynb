{
 "cells": [
  {
   "cell_type": "code",
   "execution_count": 2,
   "metadata": {},
   "outputs": [],
   "source": [
    "import numpy as np\n",
    "from urllib.request import urlopen\n",
    "import cv2\n",
    "from bs4 import BeautifulSoup\n",
    "import urllib.request\n",
    "import sys                                          # System bindings\n",
    "import pandas as pd\n",
    "import operator"
   ]
  },
  {
   "cell_type": "code",
   "execution_count": 3,
   "metadata": {},
   "outputs": [],
   "source": [
    "file=pd.read_csv('Hot Products 01 Jul.csv',low_memory=0) #input csv file"
   ]
  },
  {
   "cell_type": "code",
   "execution_count": 4,
   "metadata": {},
   "outputs": [],
   "source": [
    "file['link']='https://shopee.co.id/product/'+file['ShopID'].map(str)+\"/\"+file['ItemID'].map(str)+\"/\"\n",
    "def url_to_image(url):\n",
    "    # download the image, convert it to a NumPy array, and then read\n",
    "    # it into OpenCV format\n",
    "    with urlopen(url) as resp:\n",
    "        image = np.asarray(bytearray(resp.read()), dtype=\"uint8\")\n",
    "        image = cv2.imdecode(image, cv2.IMREAD_COLOR)\n",
    " \n",
    "    # return the image\n",
    "    return image"
   ]
  },
  {
   "cell_type": "code",
   "execution_count": 5,
   "metadata": {},
   "outputs": [
    {
     "name": "stdout",
     "output_type": "stream",
     "text": [
      "https://shopee.co.id/product/90309109/1904172659/\n",
      "downloading https://cf.shopee.co.id/file/1daccd2d6ea99383c5e61f28875de10e\n",
      "https://shopee.co.id/product/51115741/2167371343/\n",
      "downloading https://cf.shopee.co.id/file/b2f29a0d2242a58f46749c682c9dee32\n",
      "https://shopee.co.id/product/46567482/1153439532/\n",
      "downloading https://cf.shopee.co.id/file/6a286c7751cdd8e63f8d0eecc6f05369\n",
      "https://shopee.co.id/product/62582411/1022848316/\n",
      "downloading https://cf.shopee.co.id/file/74f7f8dc50ebf4ad9b93f250dcb1d107\n",
      "https://shopee.co.id/product/38181258/1464714627/\n",
      "downloading https://cf.shopee.co.id/file/78723b51d19c62b7a21402418aae102d\n"
     ]
    }
   ],
   "source": [
    "products = file.link.head()\n",
    "urls=[]\n",
    "for product in products:\n",
    "    print(product)\n",
    "    with urlopen(product) as response:\n",
    "        html = response.read()\n",
    "    soup = BeautifulSoup(html, 'html.parser')\n",
    "    link = str(soup.find(property=\"twitter:image\"))\n",
    "    url = link[15:-28]\n",
    "    urls.append(url)\n",
    "    print (\"downloading %s\" % (url))\n",
    "\n",
    "#creating list image\n",
    "list_img=[]\n",
    "for i,url in enumerate(urls):\n",
    "    tmp=[]\n",
    "    tmp.append(urllib.request.urlretrieve(url, \"image-%s.jpg\" % i))\n",
    "    list_img.append(tmp[0][0])\n",
    "    \n",
    "#define class for color analysis\n",
    "class ColorAnalyser():\n",
    "    def __init__(self, imageLoc):\n",
    "        self.src = cv2.imread(imageLoc, 1)          # Reads in image source\n",
    "        self.colors_count = {}                      # Empty dictionary container to hold the colour frequencies\n",
    " \n",
    "    def count_colors(self):\n",
    "        (channel_b, channel_g, channel_r) = cv2.split(self.src) # Splits image Mat into 3 color channels in individual 2D arrays\n",
    " \n",
    "        channel_b = channel_b.flatten()                         # Flattens the 2D single channel array so as to make it easier to iterate over it\n",
    "        channel_g = channel_g.flatten()                         #                   \"\"\n",
    "        channel_r = channel_r.flatten()                         #                   \"\"\n",
    " \n",
    "        for i in range(len(channel_b)):\n",
    "            RGB = \"(\" + str(channel_r[i]) + \",\" + str(channel_g[i]) + \",\" + str(channel_b[i]) + \")\"\n",
    "            if RGB in self.colors_count:\n",
    "                self.colors_count[RGB] += 1\n",
    "            else:\n",
    "                self.colors_count[RGB] = 1\n",
    " \n",
    "        print(\"Colours counted\")\n",
    " \n",
    "    def show_colors(self):\n",
    "        colors={}\n",
    "        #self.count_colors()\n",
    "        for keys in sorted(self.colors_count, key=self.colors_count.__getitem__):       # Sorts dictionary by value\n",
    "            colors.update({keys : self.colors_count[keys]})                  # save each new color detected in the dictionary 'key: value'\n",
    "        return colors\n",
    "\n",
    "    def main(self):\n",
    "        if (self.src == None):                                  # Checks if an image was actually loaded and errors if it wasn't\n",
    "            print(\"No image data. Check image location for typos\")\n",
    "        else:\n",
    "            self.count_colors()                             # Counts the amount of instances of RGB values within the image\n",
    "            self.show_colors()                              # Sorts and shows the colors ordered from least to most often occurance\n",
    "            cv2.waitKey(0)                                  # Waits for keypress before closing"
   ]
  },
  {
   "cell_type": "code",
   "execution_count": 6,
   "metadata": {},
   "outputs": [
    {
     "name": "stdout",
     "output_type": "stream",
     "text": [
      "error: syntax is 'python main.py /example/image/location.jpg'\n",
      "Colours counted\n",
      "Colours counted\n",
      "Colours counted\n",
      "Colours counted\n",
      "Colours counted\n"
     ]
    }
   ],
   "source": [
    "if (len(sys.argv) != 2):                                    # Checks if image was given as cli argument\n",
    "    print(\"error: syntax is 'python main.py /example/image/location.jpg'\")\n",
    "else:\n",
    "    Analyser = ColorAnalyser(sys.argv[1])\n",
    "    Analyser.main()\n",
    "\n",
    "#determine the dominant color\n",
    "analyser=[]\n",
    "for img in list_img:\n",
    "    an=ColorAnalyser(img)\n",
    "    analyser.append(an)\n",
    "for obj in analyser:\n",
    "    obj.count_colors()\n",
    "\n",
    "dominant_color=[]\n",
    "for i in analyser:\n",
    "    dominant_color.append(max(i.colors_count.items(),key=operator.itemgetter(1))[0])\n",
    "\n",
    "find_dom=[]\n",
    "for dom in dominant_color:\n",
    "    if dom=='(255,255,255)':\n",
    "        find_dom.append('White')\n",
    "    else:\n",
    "        find_dom.append('Non-White')"
   ]
  },
  {
   "cell_type": "code",
   "execution_count": 7,
   "metadata": {},
   "outputs": [
    {
     "data": {
      "text/plain": [
       "['(255,255,255)',\n",
       " '(255,255,255)',\n",
       " '(255,255,255)',\n",
       " '(255,255,255)',\n",
       " '(255,255,255)']"
      ]
     },
     "execution_count": 7,
     "metadata": {},
     "output_type": "execute_result"
    }
   ],
   "source": [
    "dominant_color"
   ]
  },
  {
   "cell_type": "code",
   "execution_count": 8,
   "metadata": {},
   "outputs": [
    {
     "data": {
      "text/plain": [
       "['White', 'White', 'White', 'White', 'White']"
      ]
     },
     "execution_count": 8,
     "metadata": {},
     "output_type": "execute_result"
    }
   ],
   "source": [
    "find_dom"
   ]
  },
  {
   "cell_type": "code",
   "execution_count": 14,
   "metadata": {},
   "outputs": [
    {
     "data": {
      "text/plain": [
       "14188"
      ]
     },
     "execution_count": 14,
     "metadata": {},
     "output_type": "execute_result"
    }
   ],
   "source": [
    "len(analyser[0].show_colors())"
   ]
  },
  {
   "cell_type": "code",
   "execution_count": null,
   "metadata": {},
   "outputs": [],
   "source": []
  }
 ],
 "metadata": {
  "kernelspec": {
   "display_name": "Python 3",
   "language": "python",
   "name": "python3"
  },
  "language_info": {
   "codemirror_mode": {
    "name": "ipython",
    "version": 3
   },
   "file_extension": ".py",
   "mimetype": "text/x-python",
   "name": "python",
   "nbconvert_exporter": "python",
   "pygments_lexer": "ipython3",
   "version": "3.6.5"
  }
 },
 "nbformat": 4,
 "nbformat_minor": 2
}
