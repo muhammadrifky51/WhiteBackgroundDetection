{
 "cells": [
  {
   "cell_type": "code",
   "execution_count": 1,
   "metadata": {},
   "outputs": [],
   "source": [
    "import numpy as np\n",
    "from urllib.request import urlopen\n",
    "import cv2\n",
    "from bs4 import BeautifulSoup"
   ]
  },
  {
   "cell_type": "code",
   "execution_count": 2,
   "metadata": {},
   "outputs": [],
   "source": [
    "def url_to_image(url):\n",
    "    # download the image, convert it to a NumPy array, and then read\n",
    "    # it into OpenCV format\n",
    "    with urlopen(url) as resp:\n",
    "        image = np.asarray(bytearray(resp.read()), dtype=\"uint8\")\n",
    "        image = cv2.imdecode(image, cv2.IMREAD_COLOR)\n",
    " \n",
    "    # return the image\n",
    "    return image"
   ]
  },
  {
   "cell_type": "code",
   "execution_count": 3,
   "metadata": {},
   "outputs": [],
   "source": [
    "products = ['https://shopee.co.id/product/8114349/607642570/',\n",
    "        'https://shopee.co.id/product/8690455/1632591920/',\n",
    "        'https://shopee.co.id/product/13062645/1569229324/',\n",
    "        'https://shopee.co.id/product/32610410/453152604/',\n",
    "        'https://shopee.co.id/product/32610410/453112137/'\n",
    "]"
   ]
  },
  {
   "cell_type": "code",
   "execution_count": 8,
   "metadata": {},
   "outputs": [
    {
     "name": "stdout",
     "output_type": "stream",
     "text": [
      "https://shopee.co.id/product/8114349/607642570/\n",
      "downloading https://cf.shopee.co.id/file/b7feb06e6257f4a4bbe643aa4c21cc51\n",
      "https://shopee.co.id/product/8690455/1632591920/\n",
      "downloading https://cf.shopee.co.id/file/69f4bae6f781fd5eb2510716b863433f\n",
      "https://shopee.co.id/product/13062645/1569229324/\n",
      "downloading https://cf.shopee.co.id/file/6ff65e08c484ba035b1a0d38f96e4940\n",
      "https://shopee.co.id/product/32610410/453152604/\n",
      "downloading https://cf.shopee.co.id/file/9c2c02301fbac16e8315f38f63c7a302\n",
      "https://shopee.co.id/product/32610410/453112137/\n",
      "downloading https://cf.shopee.co.id/file/afc110ba9919df151d23bd13386902bb\n"
     ]
    }
   ],
   "source": [
    "for product in products:\n",
    "    print(product)\n",
    "    with urlopen(product) as response:\n",
    "        html = response.read()\n",
    "    soup = BeautifulSoup(html, 'html.parser')\n",
    "    link = str(soup.find(property=\"twitter:image\"))\n",
    "    url = link[15:-28]\n",
    "    print (\"downloading %s\" % (url))\n",
    "    image = url_to_image(url)\n",
    "    cv2.imshow(\"Image\", image)\n",
    "    cv2.waitKey(0)"
   ]
  },
  {
   "cell_type": "code",
   "execution_count": null,
   "metadata": {},
   "outputs": [],
   "source": []
  }
 ],
 "metadata": {
  "kernelspec": {
   "display_name": "Python 3",
   "language": "python",
   "name": "python3"
  },
  "language_info": {
   "codemirror_mode": {
    "name": "ipython",
    "version": 3
   },
   "file_extension": ".py",
   "mimetype": "text/x-python",
   "name": "python",
   "nbconvert_exporter": "python",
   "pygments_lexer": "ipython3",
   "version": "3.6.7"
  }
 },
 "nbformat": 4,
 "nbformat_minor": 2
}
